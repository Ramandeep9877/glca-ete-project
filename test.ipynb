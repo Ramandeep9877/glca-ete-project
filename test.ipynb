{
 "cells": [
  {
   "cell_type": "code",
   "execution_count": 2,
   "metadata": {},
   "outputs": [],
   "source": [
    "import pickle\n",
    "with open('model.pickle','rb') as model:\n",
    "    mlmodel = pickle.load(model)\n",
    "    # here we are creating a mlmodel object and we are loading our model file into it"
   ]
  },
  {
   "cell_type": "code",
   "execution_count": 3,
   "metadata": {},
   "outputs": [
    {
     "name": "stderr",
     "output_type": "stream",
     "text": [
      "c:\\Users\\Ramandeep\\AppData\\Local\\Programs\\Python\\Python312\\Lib\\site-packages\\sklearn\\base.py:493: UserWarning: X does not have valid feature names, but LinearRegression was fitted with feature names\n",
      "  warnings.warn(\n"
     ]
    },
    {
     "data": {
      "text/plain": [
       "array([3342070.46511105])"
      ]
     },
     "execution_count": 3,
     "metadata": {},
     "output_type": "execute_result"
    }
   ],
   "source": [
    "mlmodel.predict([[2021,54000,10,44,3,57,1,0,0]])"
   ]
  },
  {
   "cell_type": "code",
   "execution_count": 2,
   "metadata": {},
   "outputs": [
    {
     "ename": "OperationalError",
     "evalue": "table CONTACT already exists",
     "output_type": "error",
     "traceback": [
      "\u001b[1;31m---------------------------------------------------------------------------\u001b[0m",
      "\u001b[1;31mOperationalError\u001b[0m                          Traceback (most recent call last)",
      "Cell \u001b[1;32mIn[2], line 11\u001b[0m\n\u001b[0;32m      7\u001b[0m cur \u001b[38;5;241m=\u001b[39m conn\u001b[38;5;241m.\u001b[39mcursor()\n\u001b[0;32m      8\u001b[0m \u001b[38;5;66;03m# for executing any kind of query we need cursor\u001b[39;00m\n\u001b[0;32m      9\u001b[0m \u001b[38;5;66;03m# now this cursor will be capable fo writing any kind of query\u001b[39;00m\n\u001b[1;32m---> 11\u001b[0m \u001b[43mcur\u001b[49m\u001b[38;5;241;43m.\u001b[39;49m\u001b[43mexecute\u001b[49m\u001b[43m(\u001b[49m\u001b[38;5;124;43m'''\u001b[39;49m\n\u001b[0;32m     12\u001b[0m \u001b[38;5;124;43m   CREATE TABLE CONTACT(\u001b[39;49m\n\u001b[0;32m     13\u001b[0m \u001b[38;5;124;43m      NAME VARCHAR(40),\u001b[39;49m\n\u001b[0;32m     14\u001b[0m \u001b[38;5;124;43m      EMAIL VARCHAR(50),\u001b[39;49m\n\u001b[0;32m     15\u001b[0m \u001b[38;5;124;43m      COUNTRY VARCHAR(50),\u001b[39;49m\n\u001b[0;32m     16\u001b[0m \u001b[38;5;124;43m      STATE VARCHAR(50),\u001b[39;49m\n\u001b[0;32m     17\u001b[0m \u001b[38;5;124;43m      MESSAGE TEXT\u001b[39;49m\n\u001b[0;32m     18\u001b[0m \u001b[38;5;124;43m   );\u001b[39;49m\n\u001b[0;32m     19\u001b[0m \n\u001b[0;32m     20\u001b[0m \n\u001b[0;32m     21\u001b[0m \u001b[38;5;124;43m'''\u001b[39;49m\u001b[43m)\u001b[49m\n\u001b[0;32m     22\u001b[0m conn\u001b[38;5;241m.\u001b[39mcommit()\n",
      "\u001b[1;31mOperationalError\u001b[0m: table CONTACT already exists"
     ]
    }
   ],
   "source": [
    "import sqlite3\n",
    "conn = sqlite3.connect('contactus.db')\n",
    "# here we our connection for our database\n",
    "# if contact us file is not there then it will make a file if \n",
    "# it is there then it will make a changes into it\n",
    "\n",
    "cur = conn.cursor()\n",
    "# for executing any kind of query we need cursor\n",
    "# now this cursor will be capable fo writing any kind of query\n",
    "\n",
    "cur.execute('''\n",
    "   CREATE TABLE CONTACT(\n",
    "      NAME VARCHAR(40),\n",
    "      EMAIL VARCHAR(50),\n",
    "      COUNTRY VARCHAR(50),\n",
    "      STATE VARCHAR(50),\n",
    "      MESSAGE TEXT\n",
    "   );\n",
    "\n",
    "\n",
    "''')\n",
    "conn.commit()"
   ]
  }
 ],
 "metadata": {
  "kernelspec": {
   "display_name": "Python 3",
   "language": "python",
   "name": "python3"
  },
  "language_info": {
   "codemirror_mode": {
    "name": "ipython",
    "version": 3
   },
   "file_extension": ".py",
   "mimetype": "text/x-python",
   "name": "python",
   "nbconvert_exporter": "python",
   "pygments_lexer": "ipython3",
   "version": "3.12.2"
  }
 },
 "nbformat": 4,
 "nbformat_minor": 2
}
